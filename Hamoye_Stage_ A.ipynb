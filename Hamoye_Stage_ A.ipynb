{
 "cells": [
  {
   "cell_type": "code",
   "execution_count": 1,
   "id": "d4f0cba4",
   "metadata": {},
   "outputs": [],
   "source": [
    "#Importing the packages we'll be leveraging in this project\n",
    "import pandas as pd\n",
    "import seaborn as sns\n",
    "import numpy as np\n",
    "import matplotlib.pyplot as plt"
   ]
  },
  {
   "cell_type": "code",
   "execution_count": 35,
   "id": "f041c176",
   "metadata": {},
   "outputs": [
    {
     "data": {
      "text/html": [
       "<div>\n",
       "<style scoped>\n",
       "    .dataframe tbody tr th:only-of-type {\n",
       "        vertical-align: middle;\n",
       "    }\n",
       "\n",
       "    .dataframe tbody tr th {\n",
       "        vertical-align: top;\n",
       "    }\n",
       "\n",
       "    .dataframe thead th {\n",
       "        text-align: right;\n",
       "    }\n",
       "</style>\n",
       "<table border=\"1\" class=\"dataframe\">\n",
       "  <thead>\n",
       "    <tr style=\"text-align: right;\">\n",
       "      <th></th>\n",
       "      <th>Area Code</th>\n",
       "      <th>Area</th>\n",
       "      <th>Item Code</th>\n",
       "      <th>Item</th>\n",
       "      <th>Element Code</th>\n",
       "      <th>Element</th>\n",
       "      <th>Unit</th>\n",
       "      <th>Y2014</th>\n",
       "      <th>Y2015</th>\n",
       "      <th>Y2016</th>\n",
       "      <th>Y2017</th>\n",
       "      <th>Y2018</th>\n",
       "    </tr>\n",
       "  </thead>\n",
       "  <tbody>\n",
       "    <tr>\n",
       "      <th>0</th>\n",
       "      <td>4</td>\n",
       "      <td>Algeria</td>\n",
       "      <td>2501</td>\n",
       "      <td>Population</td>\n",
       "      <td>511</td>\n",
       "      <td>Total Population - Both sexes</td>\n",
       "      <td>1000 persons</td>\n",
       "      <td>38924.00</td>\n",
       "      <td>39728.00</td>\n",
       "      <td>40551.00</td>\n",
       "      <td>41389.00</td>\n",
       "      <td>42228.00</td>\n",
       "    </tr>\n",
       "    <tr>\n",
       "      <th>1</th>\n",
       "      <td>4</td>\n",
       "      <td>Algeria</td>\n",
       "      <td>2501</td>\n",
       "      <td>Population</td>\n",
       "      <td>5301</td>\n",
       "      <td>Domestic supply quantity</td>\n",
       "      <td>1000 tonnes</td>\n",
       "      <td>0.00</td>\n",
       "      <td>0.00</td>\n",
       "      <td>0.00</td>\n",
       "      <td>0.00</td>\n",
       "      <td>0.00</td>\n",
       "    </tr>\n",
       "    <tr>\n",
       "      <th>2</th>\n",
       "      <td>4</td>\n",
       "      <td>Algeria</td>\n",
       "      <td>2901</td>\n",
       "      <td>Grand Total</td>\n",
       "      <td>664</td>\n",
       "      <td>Food supply (kcal/capita/day)</td>\n",
       "      <td>kcal/capita/day</td>\n",
       "      <td>3377.00</td>\n",
       "      <td>3379.00</td>\n",
       "      <td>3372.00</td>\n",
       "      <td>3341.00</td>\n",
       "      <td>3322.00</td>\n",
       "    </tr>\n",
       "    <tr>\n",
       "      <th>3</th>\n",
       "      <td>4</td>\n",
       "      <td>Algeria</td>\n",
       "      <td>2901</td>\n",
       "      <td>Grand Total</td>\n",
       "      <td>674</td>\n",
       "      <td>Protein supply quantity (g/capita/day)</td>\n",
       "      <td>g/capita/day</td>\n",
       "      <td>94.90</td>\n",
       "      <td>94.35</td>\n",
       "      <td>94.72</td>\n",
       "      <td>92.82</td>\n",
       "      <td>91.83</td>\n",
       "    </tr>\n",
       "    <tr>\n",
       "      <th>4</th>\n",
       "      <td>4</td>\n",
       "      <td>Algeria</td>\n",
       "      <td>2901</td>\n",
       "      <td>Grand Total</td>\n",
       "      <td>684</td>\n",
       "      <td>Fat supply quantity (g/capita/day)</td>\n",
       "      <td>g/capita/day</td>\n",
       "      <td>80.06</td>\n",
       "      <td>79.36</td>\n",
       "      <td>77.40</td>\n",
       "      <td>80.19</td>\n",
       "      <td>77.28</td>\n",
       "    </tr>\n",
       "  </tbody>\n",
       "</table>\n",
       "</div>"
      ],
      "text/plain": [
       "   Area Code     Area  Item Code         Item  Element Code  \\\n",
       "0          4  Algeria       2501   Population           511   \n",
       "1          4  Algeria       2501   Population          5301   \n",
       "2          4  Algeria       2901  Grand Total           664   \n",
       "3          4  Algeria       2901  Grand Total           674   \n",
       "4          4  Algeria       2901  Grand Total           684   \n",
       "\n",
       "                                  Element             Unit     Y2014  \\\n",
       "0           Total Population - Both sexes     1000 persons  38924.00   \n",
       "1                Domestic supply quantity      1000 tonnes      0.00   \n",
       "2           Food supply (kcal/capita/day)  kcal/capita/day   3377.00   \n",
       "3  Protein supply quantity (g/capita/day)     g/capita/day     94.90   \n",
       "4      Fat supply quantity (g/capita/day)     g/capita/day     80.06   \n",
       "\n",
       "      Y2015     Y2016     Y2017     Y2018  \n",
       "0  39728.00  40551.00  41389.00  42228.00  \n",
       "1      0.00      0.00      0.00      0.00  \n",
       "2   3379.00   3372.00   3341.00   3322.00  \n",
       "3     94.35     94.72     92.82     91.83  \n",
       "4     79.36     77.40     80.19     77.28  "
      ]
     },
     "execution_count": 35,
     "metadata": {},
     "output_type": "execute_result"
    }
   ],
   "source": [
    "# load in the dataset into a pandas dataframe, print statistics\n",
    "url = 'https://github.com/HamoyeHQ/HDSC-Introduction-to-Python-for-machine-learning/files/7768140/FoodBalanceSheets_E_Africa_NOFLAG.csv'\n",
    "fb = pd.read_csv(url, encoding= 'latin-1')\n",
    "fb.head()"
   ]
  },
  {
   "cell_type": "code",
   "execution_count": 3,
   "id": "3d2790c0",
   "metadata": {},
   "outputs": [
    {
     "name": "stdout",
     "output_type": "stream",
     "text": [
      "(60943, 12)\n",
      "Area Code         int64\n",
      "Area             object\n",
      "Item Code         int64\n",
      "Item             object\n",
      "Element Code      int64\n",
      "Element          object\n",
      "Unit             object\n",
      "Y2014           float64\n",
      "Y2015           float64\n",
      "Y2016           float64\n",
      "Y2017           float64\n",
      "Y2018           float64\n",
      "dtype: object\n"
     ]
    }
   ],
   "source": [
    "# high-level overview of data shape and composition\n",
    "print(fb.shape)\n",
    "print(fb.dtypes)"
   ]
  },
  {
   "cell_type": "code",
   "execution_count": 4,
   "id": "73b5b177",
   "metadata": {},
   "outputs": [
    {
     "name": "stdout",
     "output_type": "stream",
     "text": [
      "<class 'pandas.core.frame.DataFrame'>\n",
      "RangeIndex: 60943 entries, 0 to 60942\n",
      "Data columns (total 12 columns):\n",
      " #   Column        Non-Null Count  Dtype  \n",
      "---  ------        --------------  -----  \n",
      " 0   Area Code     60943 non-null  int64  \n",
      " 1   Area          60943 non-null  object \n",
      " 2   Item Code     60943 non-null  int64  \n",
      " 3   Item          60943 non-null  object \n",
      " 4   Element Code  60943 non-null  int64  \n",
      " 5   Element       60943 non-null  object \n",
      " 6   Unit          60943 non-null  object \n",
      " 7   Y2014         59354 non-null  float64\n",
      " 8   Y2015         59395 non-null  float64\n",
      " 9   Y2016         59408 non-null  float64\n",
      " 10  Y2017         59437 non-null  float64\n",
      " 11  Y2018         59507 non-null  float64\n",
      "dtypes: float64(5), int64(3), object(4)\n",
      "memory usage: 5.6+ MB\n",
      "None\n"
     ]
    }
   ],
   "source": [
    "print(fb.info())"
   ]
  },
  {
   "cell_type": "code",
   "execution_count": 5,
   "id": "2da9e3f1",
   "metadata": {},
   "outputs": [
    {
     "data": {
      "text/plain": [
       "Area Code          0\n",
       "Area               0\n",
       "Item Code          0\n",
       "Item               0\n",
       "Element Code       0\n",
       "Element            0\n",
       "Unit               0\n",
       "Y2014           1589\n",
       "Y2015           1548\n",
       "Y2016           1535\n",
       "Y2017           1506\n",
       "Y2018           1436\n",
       "dtype: int64"
      ]
     },
     "execution_count": 5,
     "metadata": {},
     "output_type": "execute_result"
    }
   ],
   "source": [
    "# the sum of null values in each colu\n",
    "fb.isnull().sum()"
   ]
  },
  {
   "cell_type": "code",
   "execution_count": 6,
   "id": "081214d1",
   "metadata": {},
   "outputs": [
    {
     "data": {
      "text/plain": [
       "Area Code       57784\n",
       "Area            57784\n",
       "Item Code       57784\n",
       "Item            57784\n",
       "Element Code    57784\n",
       "Element         57784\n",
       "Unit            57784\n",
       "Y2014           57784\n",
       "Y2015           57784\n",
       "Y2016           57784\n",
       "Y2017           57784\n",
       "Y2018           57784\n",
       "dtype: int64"
      ]
     },
     "execution_count": 6,
     "metadata": {},
     "output_type": "execute_result"
    }
   ],
   "source": [
    "fb.dropna().count()"
   ]
  },
  {
   "cell_type": "code",
   "execution_count": 7,
   "id": "f66d1a9c",
   "metadata": {},
   "outputs": [
    {
     "data": {
      "text/plain": [
       "array(['Total Population - Both sexes', 'Domestic supply quantity',\n",
       "       'Food supply (kcal/capita/day)',\n",
       "       'Protein supply quantity (g/capita/day)',\n",
       "       'Fat supply quantity (g/capita/day)', 'Production',\n",
       "       'Import Quantity', 'Stock Variation', 'Export Quantity', 'Feed',\n",
       "       'Seed', 'Losses', 'Processing', 'Other uses (non-food)',\n",
       "       'Residuals', 'Food', 'Food supply quantity (kg/capita/yr)',\n",
       "       'Tourist consumption'], dtype=object)"
      ]
     },
     "execution_count": 7,
     "metadata": {},
     "output_type": "execute_result"
    }
   ],
   "source": [
    "fb['Element'].unique()"
   ]
  },
  {
   "cell_type": "markdown",
   "id": "eeab1e4e",
   "metadata": {},
   "source": [
    "### 1. What is the mean and standard deviation across the whole dataset for the year 2017 to 2 decimal places?"
   ]
  },
  {
   "cell_type": "code",
   "execution_count": 8,
   "id": "000cdba8",
   "metadata": {},
   "outputs": [
    {
     "data": {
      "text/plain": [
       "count     59437.000000\n",
       "mean        140.917765\n",
       "std        1671.862359\n",
       "min       -1582.000000\n",
       "25%           0.000000\n",
       "50%           0.100000\n",
       "75%           9.000000\n",
       "max      190873.000000\n",
       "Name: Y2017, dtype: float64"
      ]
     },
     "execution_count": 8,
     "metadata": {},
     "output_type": "execute_result"
    }
   ],
   "source": [
    "fb['Y2017'].describe()"
   ]
  },
  {
   "cell_type": "markdown",
   "id": "355b34c5",
   "metadata": {},
   "source": [
    "### 2. Given the following python code, what would the output of the code give?"
   ]
  },
  {
   "cell_type": "code",
   "execution_count": 9,
   "id": "65b74818",
   "metadata": {},
   "outputs": [],
   "source": [
    "my_tuppy = (1,2,5,8)"
   ]
  },
  {
   "cell_type": "code",
   "execution_count": 10,
   "id": "8e5cb794",
   "metadata": {},
   "outputs": [
    {
     "ename": "TypeError",
     "evalue": "'tuple' object does not support item assignment",
     "output_type": "error",
     "traceback": [
      "\u001b[1;31m---------------------------------------------------------------------------\u001b[0m",
      "\u001b[1;31mTypeError\u001b[0m                                 Traceback (most recent call last)",
      "Input \u001b[1;32mIn [10]\u001b[0m, in \u001b[0;36m<cell line: 1>\u001b[1;34m()\u001b[0m\n\u001b[1;32m----> 1\u001b[0m my_tuppy[\u001b[38;5;241m2\u001b[39m] \u001b[38;5;241m=\u001b[39m \u001b[38;5;241m6\u001b[39m\n",
      "\u001b[1;31mTypeError\u001b[0m: 'tuple' object does not support item assignment"
     ]
    }
   ],
   "source": [
    "my_tuppy[2] = 6"
   ]
  },
  {
   "cell_type": "markdown",
   "id": "1f894a12",
   "metadata": {},
   "source": [
    "### 3. Select columns ‘Y2017’ and ‘Area’, Perform a groupby operation on ‘Area’.  Which of these Areas had the 7th lowest sum in 2017?"
   ]
  },
  {
   "cell_type": "code",
   "execution_count": 11,
   "id": "90983c93",
   "metadata": {},
   "outputs": [
    {
     "ename": "TypeError",
     "evalue": "sort_values() got an unexpected keyword argument 'descending'",
     "output_type": "error",
     "traceback": [
      "\u001b[1;31m---------------------------------------------------------------------------\u001b[0m",
      "\u001b[1;31mTypeError\u001b[0m                                 Traceback (most recent call last)",
      "Input \u001b[1;32mIn [11]\u001b[0m, in \u001b[0;36m<cell line: 1>\u001b[1;34m()\u001b[0m\n\u001b[1;32m----> 1\u001b[0m \u001b[43mfb\u001b[49m\u001b[43m[\u001b[49m\u001b[43m[\u001b[49m\u001b[38;5;124;43m'\u001b[39;49m\u001b[38;5;124;43mY2017\u001b[39;49m\u001b[38;5;124;43m'\u001b[39;49m\u001b[43m,\u001b[49m\u001b[43m \u001b[49m\u001b[38;5;124;43m'\u001b[39;49m\u001b[38;5;124;43mArea\u001b[39;49m\u001b[38;5;124;43m'\u001b[39;49m\u001b[43m]\u001b[49m\u001b[43m]\u001b[49m\u001b[38;5;241;43m.\u001b[39;49m\u001b[43mgroupby\u001b[49m\u001b[43m(\u001b[49m\u001b[38;5;124;43m'\u001b[39;49m\u001b[38;5;124;43mArea\u001b[39;49m\u001b[38;5;124;43m'\u001b[39;49m\u001b[43m)\u001b[49m\u001b[38;5;241;43m.\u001b[39;49m\u001b[43msum\u001b[49m\u001b[43m(\u001b[49m\u001b[43m)\u001b[49m\u001b[38;5;241;43m.\u001b[39;49m\u001b[43msort_values\u001b[49m\u001b[43m(\u001b[49m\u001b[43mby\u001b[49m\u001b[38;5;241;43m=\u001b[39;49m\u001b[38;5;124;43m'\u001b[39;49m\u001b[38;5;124;43mY2017\u001b[39;49m\u001b[38;5;124;43m'\u001b[39;49m\u001b[43m,\u001b[49m\u001b[43m \u001b[49m\u001b[43mdescending\u001b[49m\u001b[38;5;241;43m=\u001b[39;49m\u001b[38;5;28;43;01mFalse\u001b[39;49;00m\u001b[43m)\u001b[49m\n",
      "File \u001b[1;32mC:\\ProgramData\\Anaconda3\\lib\\site-packages\\pandas\\util\\_decorators.py:311\u001b[0m, in \u001b[0;36mdeprecate_nonkeyword_arguments.<locals>.decorate.<locals>.wrapper\u001b[1;34m(*args, **kwargs)\u001b[0m\n\u001b[0;32m    305\u001b[0m \u001b[38;5;28;01mif\u001b[39;00m \u001b[38;5;28mlen\u001b[39m(args) \u001b[38;5;241m>\u001b[39m num_allow_args:\n\u001b[0;32m    306\u001b[0m     warnings\u001b[38;5;241m.\u001b[39mwarn(\n\u001b[0;32m    307\u001b[0m         msg\u001b[38;5;241m.\u001b[39mformat(arguments\u001b[38;5;241m=\u001b[39marguments),\n\u001b[0;32m    308\u001b[0m         \u001b[38;5;167;01mFutureWarning\u001b[39;00m,\n\u001b[0;32m    309\u001b[0m         stacklevel\u001b[38;5;241m=\u001b[39mstacklevel,\n\u001b[0;32m    310\u001b[0m     )\n\u001b[1;32m--> 311\u001b[0m \u001b[38;5;28;01mreturn\u001b[39;00m func(\u001b[38;5;241m*\u001b[39margs, \u001b[38;5;241m*\u001b[39m\u001b[38;5;241m*\u001b[39mkwargs)\n",
      "\u001b[1;31mTypeError\u001b[0m: sort_values() got an unexpected keyword argument 'descending'"
     ]
    }
   ],
   "source": [
    "fb[['Y2017', 'Area']].groupby('Area').sum().sort_values(by='Y2017', descending=False)"
   ]
  },
  {
   "cell_type": "markdown",
   "id": "8e8e228c",
   "metadata": {},
   "source": [
    "### 4. \n",
    "#### Consider the following list of tuples: y = [(2, 4), (7, 8), (1, 5, 9)]\n",
    "#### How would you assign element 8 from the list to a variable x? "
   ]
  },
  {
   "cell_type": "code",
   "execution_count": null,
   "id": "86cd325f",
   "metadata": {},
   "outputs": [],
   "source": [
    "y = [(2,4), (7,8), (1,5,9)]\n",
    "x = y[1][-1]\n",
    "print(x)"
   ]
  },
  {
   "cell_type": "code",
   "execution_count": null,
   "id": "8068f932",
   "metadata": {},
   "outputs": [],
   "source": [
    "y = [(2,4), (7,8), (1,5,9)]\n",
    "x = y[1][1]\n",
    "print(x)"
   ]
  },
  {
   "cell_type": "markdown",
   "id": "348243e3",
   "metadata": {},
   "source": [
    "###  5. \n",
    "What would be the output for?\n",
    " S = [['him', 'sell'], [90, 28, 43]]\n",
    " S[0][1][1]\n",
    "\n"
   ]
  },
  {
   "cell_type": "code",
   "execution_count": 13,
   "id": "3ec8bf86",
   "metadata": {},
   "outputs": [],
   "source": [
    "S = [['him', 'sell'], [90, 28, 43]]"
   ]
  },
  {
   "cell_type": "code",
   "execution_count": 14,
   "id": "de182183",
   "metadata": {},
   "outputs": [
    {
     "data": {
      "text/plain": [
       "'e'"
      ]
     },
     "execution_count": 14,
     "metadata": {},
     "output_type": "execute_result"
    }
   ],
   "source": [
    "S[0][1][1]"
   ]
  },
  {
   "cell_type": "markdown",
   "id": "3e581c82",
   "metadata": {},
   "source": [
    "### 6. Which of these python data structures is unorderly?"
   ]
  },
  {
   "cell_type": "markdown",
   "id": "fa23301d",
   "metadata": {},
   "source": [
    "Set and Dictionary"
   ]
  },
  {
   "cell_type": "markdown",
   "id": "095a459f",
   "metadata": {},
   "source": [
    "### 7. Select columns ‘Y2017’ and ‘Area’, Perform a groupby operation on ‘Area’.  Which of these Areas had the highest sum in 2017?"
   ]
  },
  {
   "cell_type": "code",
   "execution_count": 12,
   "id": "76a779de",
   "metadata": {},
   "outputs": [
    {
     "data": {
      "text/html": [
       "<div>\n",
       "<style scoped>\n",
       "    .dataframe tbody tr th:only-of-type {\n",
       "        vertical-align: middle;\n",
       "    }\n",
       "\n",
       "    .dataframe tbody tr th {\n",
       "        vertical-align: top;\n",
       "    }\n",
       "\n",
       "    .dataframe thead th {\n",
       "        text-align: right;\n",
       "    }\n",
       "</style>\n",
       "<table border=\"1\" class=\"dataframe\">\n",
       "  <thead>\n",
       "    <tr style=\"text-align: right;\">\n",
       "      <th></th>\n",
       "      <th>Y2017</th>\n",
       "    </tr>\n",
       "    <tr>\n",
       "      <th>Area</th>\n",
       "      <th></th>\n",
       "    </tr>\n",
       "  </thead>\n",
       "  <tbody>\n",
       "    <tr>\n",
       "      <th>Nigeria</th>\n",
       "      <td>1483268.23</td>\n",
       "    </tr>\n",
       "    <tr>\n",
       "      <th>Egypt</th>\n",
       "      <td>866379.92</td>\n",
       "    </tr>\n",
       "    <tr>\n",
       "      <th>South Africa</th>\n",
       "      <td>517590.54</td>\n",
       "    </tr>\n",
       "    <tr>\n",
       "      <th>Ethiopia</th>\n",
       "      <td>448683.76</td>\n",
       "    </tr>\n",
       "    <tr>\n",
       "      <th>Morocco</th>\n",
       "      <td>388495.36</td>\n",
       "    </tr>\n",
       "    <tr>\n",
       "      <th>Ghana</th>\n",
       "      <td>337599.06</td>\n",
       "    </tr>\n",
       "    <tr>\n",
       "      <th>Algeria</th>\n",
       "      <td>325644.27</td>\n",
       "    </tr>\n",
       "    <tr>\n",
       "      <th>United Republic of Tanzania</th>\n",
       "      <td>322616.85</td>\n",
       "    </tr>\n",
       "    <tr>\n",
       "      <th>Kenya</th>\n",
       "      <td>264660.66</td>\n",
       "    </tr>\n",
       "    <tr>\n",
       "      <th>Sudan</th>\n",
       "      <td>239931.92</td>\n",
       "    </tr>\n",
       "    <tr>\n",
       "      <th>Cameroon</th>\n",
       "      <td>232030.43</td>\n",
       "    </tr>\n",
       "    <tr>\n",
       "      <th>Angola</th>\n",
       "      <td>229159.57</td>\n",
       "    </tr>\n",
       "    <tr>\n",
       "      <th>Côte d'Ivoire</th>\n",
       "      <td>224599.01</td>\n",
       "    </tr>\n",
       "    <tr>\n",
       "      <th>Uganda</th>\n",
       "      <td>213950.38</td>\n",
       "    </tr>\n",
       "    <tr>\n",
       "      <th>Malawi</th>\n",
       "      <td>181098.71</td>\n",
       "    </tr>\n",
       "    <tr>\n",
       "      <th>Mozambique</th>\n",
       "      <td>161407.98</td>\n",
       "    </tr>\n",
       "    <tr>\n",
       "      <th>Mauritania</th>\n",
       "      <td>156665.46</td>\n",
       "    </tr>\n",
       "    <tr>\n",
       "      <th>Mali</th>\n",
       "      <td>149928.33</td>\n",
       "    </tr>\n",
       "    <tr>\n",
       "      <th>Madagascar</th>\n",
       "      <td>131197.73</td>\n",
       "    </tr>\n",
       "    <tr>\n",
       "      <th>Niger</th>\n",
       "      <td>126707.58</td>\n",
       "    </tr>\n",
       "    <tr>\n",
       "      <th>Benin</th>\n",
       "      <td>124771.22</td>\n",
       "    </tr>\n",
       "    <tr>\n",
       "      <th>Tunisia</th>\n",
       "      <td>124167.20</td>\n",
       "    </tr>\n",
       "    <tr>\n",
       "      <th>Zambia</th>\n",
       "      <td>103223.77</td>\n",
       "    </tr>\n",
       "    <tr>\n",
       "      <th>Burkina Faso</th>\n",
       "      <td>101855.07</td>\n",
       "    </tr>\n",
       "    <tr>\n",
       "      <th>Guinea</th>\n",
       "      <td>98138.87</td>\n",
       "    </tr>\n",
       "    <tr>\n",
       "      <th>Senegal</th>\n",
       "      <td>95681.15</td>\n",
       "    </tr>\n",
       "    <tr>\n",
       "      <th>Zimbabwe</th>\n",
       "      <td>75919.34</td>\n",
       "    </tr>\n",
       "    <tr>\n",
       "      <th>Rwanda</th>\n",
       "      <td>73663.69</td>\n",
       "    </tr>\n",
       "    <tr>\n",
       "      <th>Chad</th>\n",
       "      <td>71594.68</td>\n",
       "    </tr>\n",
       "    <tr>\n",
       "      <th>Sierra Leone</th>\n",
       "      <td>55311.33</td>\n",
       "    </tr>\n",
       "    <tr>\n",
       "      <th>Eswatini</th>\n",
       "      <td>54343.33</td>\n",
       "    </tr>\n",
       "    <tr>\n",
       "      <th>Mauritius</th>\n",
       "      <td>51114.83</td>\n",
       "    </tr>\n",
       "    <tr>\n",
       "      <th>Togo</th>\n",
       "      <td>49841.88</td>\n",
       "    </tr>\n",
       "    <tr>\n",
       "      <th>Congo</th>\n",
       "      <td>41181.68</td>\n",
       "    </tr>\n",
       "    <tr>\n",
       "      <th>Central African Republic</th>\n",
       "      <td>29937.00</td>\n",
       "    </tr>\n",
       "    <tr>\n",
       "      <th>Namibia</th>\n",
       "      <td>29874.89</td>\n",
       "    </tr>\n",
       "    <tr>\n",
       "      <th>Liberia</th>\n",
       "      <td>29342.20</td>\n",
       "    </tr>\n",
       "    <tr>\n",
       "      <th>Gabon</th>\n",
       "      <td>27979.64</td>\n",
       "    </tr>\n",
       "    <tr>\n",
       "      <th>Gambia</th>\n",
       "      <td>23154.18</td>\n",
       "    </tr>\n",
       "    <tr>\n",
       "      <th>Djibouti</th>\n",
       "      <td>22729.91</td>\n",
       "    </tr>\n",
       "    <tr>\n",
       "      <th>Botswana</th>\n",
       "      <td>22101.30</td>\n",
       "    </tr>\n",
       "    <tr>\n",
       "      <th>Lesotho</th>\n",
       "      <td>21267.96</td>\n",
       "    </tr>\n",
       "    <tr>\n",
       "      <th>Guinea-Bissau</th>\n",
       "      <td>19102.77</td>\n",
       "    </tr>\n",
       "    <tr>\n",
       "      <th>Cabo Verde</th>\n",
       "      <td>14650.74</td>\n",
       "    </tr>\n",
       "    <tr>\n",
       "      <th>Sao Tome and Principe</th>\n",
       "      <td>12662.63</td>\n",
       "    </tr>\n",
       "    <tr>\n",
       "      <th>Seychelles</th>\n",
       "      <td>442.34</td>\n",
       "    </tr>\n",
       "    <tr>\n",
       "      <th>Comoros</th>\n",
       "      <td>59.84</td>\n",
       "    </tr>\n",
       "    <tr>\n",
       "      <th>Sudan (former)</th>\n",
       "      <td>0.00</td>\n",
       "    </tr>\n",
       "    <tr>\n",
       "      <th>Ethiopia PDR</th>\n",
       "      <td>0.00</td>\n",
       "    </tr>\n",
       "  </tbody>\n",
       "</table>\n",
       "</div>"
      ],
      "text/plain": [
       "                                  Y2017\n",
       "Area                                   \n",
       "Nigeria                      1483268.23\n",
       "Egypt                         866379.92\n",
       "South Africa                  517590.54\n",
       "Ethiopia                      448683.76\n",
       "Morocco                       388495.36\n",
       "Ghana                         337599.06\n",
       "Algeria                       325644.27\n",
       "United Republic of Tanzania   322616.85\n",
       "Kenya                         264660.66\n",
       "Sudan                         239931.92\n",
       "Cameroon                      232030.43\n",
       "Angola                        229159.57\n",
       "Côte d'Ivoire                 224599.01\n",
       "Uganda                        213950.38\n",
       "Malawi                        181098.71\n",
       "Mozambique                    161407.98\n",
       "Mauritania                    156665.46\n",
       "Mali                          149928.33\n",
       "Madagascar                    131197.73\n",
       "Niger                         126707.58\n",
       "Benin                         124771.22\n",
       "Tunisia                       124167.20\n",
       "Zambia                        103223.77\n",
       "Burkina Faso                  101855.07\n",
       "Guinea                         98138.87\n",
       "Senegal                        95681.15\n",
       "Zimbabwe                       75919.34\n",
       "Rwanda                         73663.69\n",
       "Chad                           71594.68\n",
       "Sierra Leone                   55311.33\n",
       "Eswatini                       54343.33\n",
       "Mauritius                      51114.83\n",
       "Togo                           49841.88\n",
       "Congo                          41181.68\n",
       "Central African Republic       29937.00\n",
       "Namibia                        29874.89\n",
       "Liberia                        29342.20\n",
       "Gabon                          27979.64\n",
       "Gambia                         23154.18\n",
       "Djibouti                       22729.91\n",
       "Botswana                       22101.30\n",
       "Lesotho                        21267.96\n",
       "Guinea-Bissau                  19102.77\n",
       "Cabo Verde                     14650.74\n",
       "Sao Tome and Principe          12662.63\n",
       "Seychelles                       442.34\n",
       "Comoros                           59.84\n",
       "Sudan (former)                     0.00\n",
       "Ethiopia PDR                       0.00"
      ]
     },
     "execution_count": 12,
     "metadata": {},
     "output_type": "execute_result"
    }
   ],
   "source": [
    "fb[['Y2017', 'Area']].groupby('Area').sum().sort_values(by='Y2017', ascending=False)"
   ]
  },
  {
   "cell_type": "code",
   "execution_count": null,
   "id": "322bdcd2",
   "metadata": {},
   "outputs": [],
   "source": [
    "Ans = Nigeria"
   ]
  },
  {
   "cell_type": "markdown",
   "id": "d6c60310",
   "metadata": {},
   "source": [
    "### 8. Which of the following dataframe methods can be used to access elements across rows and columns?"
   ]
  },
  {
   "cell_type": "code",
   "execution_count": null,
   "id": "98698684",
   "metadata": {},
   "outputs": [],
   "source": [
    "C and D"
   ]
  },
  {
   "cell_type": "markdown",
   "id": "0fb9cea2",
   "metadata": {},
   "source": [
    "### 9. Which year had the least correlation with ‘Element Code’?"
   ]
  },
  {
   "cell_type": "code",
   "execution_count": 16,
   "id": "7254fada",
   "metadata": {},
   "outputs": [
    {
     "data": {
      "text/plain": [
       "Element Code    1.000000\n",
       "Y2014           0.024457\n",
       "Y2018           0.024279\n",
       "Y2017           0.024254\n",
       "Y2015           0.023889\n",
       "Y2016           0.023444\n",
       "Area Code      -0.000209\n",
       "Item Code      -0.024683\n",
       "Name: Element Code, dtype: float64"
      ]
     },
     "execution_count": 16,
     "metadata": {},
     "output_type": "execute_result"
    }
   ],
   "source": [
    "fb.corr()['Element Code'].sort_values(ascending=False)"
   ]
  },
  {
   "cell_type": "code",
   "execution_count": 17,
   "id": "55d8e23c",
   "metadata": {},
   "outputs": [],
   "source": [
    "Answer = 2016"
   ]
  },
  {
   "cell_type": "markdown",
   "id": "21265a49",
   "metadata": {},
   "source": [
    "### 10. If you have the following list"
   ]
  },
  {
   "cell_type": "code",
   "execution_count": 21,
   "id": "632398d3",
   "metadata": {},
   "outputs": [],
   "source": [
    "lst = [[35, 'Portugal', 94], [33, 'Argentina', 93], [30, 'Brazil', 92]]\n",
    "col = ['Age', 'Nationality', 'Overall']"
   ]
  },
  {
   "cell_type": "code",
   "execution_count": 22,
   "id": "efeabb2b",
   "metadata": {},
   "outputs": [
    {
     "data": {
      "text/html": [
       "<div>\n",
       "<style scoped>\n",
       "    .dataframe tbody tr th:only-of-type {\n",
       "        vertical-align: middle;\n",
       "    }\n",
       "\n",
       "    .dataframe tbody tr th {\n",
       "        vertical-align: top;\n",
       "    }\n",
       "\n",
       "    .dataframe thead th {\n",
       "        text-align: right;\n",
       "    }\n",
       "</style>\n",
       "<table border=\"1\" class=\"dataframe\">\n",
       "  <thead>\n",
       "    <tr style=\"text-align: right;\">\n",
       "      <th></th>\n",
       "      <th>Age</th>\n",
       "      <th>Nationality</th>\n",
       "      <th>Overall</th>\n",
       "    </tr>\n",
       "  </thead>\n",
       "  <tbody>\n",
       "    <tr>\n",
       "      <th>1</th>\n",
       "      <td>35</td>\n",
       "      <td>Portugal</td>\n",
       "      <td>94</td>\n",
       "    </tr>\n",
       "    <tr>\n",
       "      <th>2</th>\n",
       "      <td>33</td>\n",
       "      <td>Argentina</td>\n",
       "      <td>93</td>\n",
       "    </tr>\n",
       "    <tr>\n",
       "      <th>3</th>\n",
       "      <td>30</td>\n",
       "      <td>Brazil</td>\n",
       "      <td>92</td>\n",
       "    </tr>\n",
       "  </tbody>\n",
       "</table>\n",
       "</div>"
      ],
      "text/plain": [
       "   Age Nationality  Overall\n",
       "1   35    Portugal       94\n",
       "2   33   Argentina       93\n",
       "3   30      Brazil       92"
      ]
     },
     "execution_count": 22,
     "metadata": {},
     "output_type": "execute_result"
    }
   ],
   "source": [
    "pd.DataFrame(lst, columns=col, index=[1,2,3])"
   ]
  },
  {
   "cell_type": "code",
   "execution_count": 23,
   "id": "f5c906b8",
   "metadata": {},
   "outputs": [
    {
     "data": {
      "text/html": [
       "<div>\n",
       "<style scoped>\n",
       "    .dataframe tbody tr th:only-of-type {\n",
       "        vertical-align: middle;\n",
       "    }\n",
       "\n",
       "    .dataframe tbody tr th {\n",
       "        vertical-align: top;\n",
       "    }\n",
       "\n",
       "    .dataframe thead th {\n",
       "        text-align: right;\n",
       "    }\n",
       "</style>\n",
       "<table border=\"1\" class=\"dataframe\">\n",
       "  <thead>\n",
       "    <tr style=\"text-align: right;\">\n",
       "      <th></th>\n",
       "      <th>Age</th>\n",
       "      <th>Nationality</th>\n",
       "      <th>Overall</th>\n",
       "    </tr>\n",
       "  </thead>\n",
       "  <tbody>\n",
       "    <tr>\n",
       "      <th>1</th>\n",
       "      <td>35</td>\n",
       "      <td>Portugal</td>\n",
       "      <td>94</td>\n",
       "    </tr>\n",
       "    <tr>\n",
       "      <th>2</th>\n",
       "      <td>33</td>\n",
       "      <td>Argentina</td>\n",
       "      <td>93</td>\n",
       "    </tr>\n",
       "    <tr>\n",
       "      <th>3</th>\n",
       "      <td>30</td>\n",
       "      <td>Brazil</td>\n",
       "      <td>92</td>\n",
       "    </tr>\n",
       "  </tbody>\n",
       "</table>\n",
       "</div>"
      ],
      "text/plain": [
       "   Age Nationality  Overall\n",
       "1   35    Portugal       94\n",
       "2   33   Argentina       93\n",
       "3   30      Brazil       92"
      ]
     },
     "execution_count": 23,
     "metadata": {},
     "output_type": "execute_result"
    }
   ],
   "source": [
    "pd.DataFrame(lst, columns=['Age', 'Nationality', 'Overall'], index=[1,2,3])"
   ]
  },
  {
   "cell_type": "markdown",
   "id": "b64cbb61",
   "metadata": {},
   "source": [
    "### 11. What is the total Protein supply quantity in Madagascar in 2015?"
   ]
  },
  {
   "cell_type": "code",
   "execution_count": 24,
   "id": "d5889a2d",
   "metadata": {},
   "outputs": [
    {
     "data": {
      "text/html": [
       "<div>\n",
       "<style scoped>\n",
       "    .dataframe tbody tr th:only-of-type {\n",
       "        vertical-align: middle;\n",
       "    }\n",
       "\n",
       "    .dataframe tbody tr th {\n",
       "        vertical-align: top;\n",
       "    }\n",
       "\n",
       "    .dataframe thead th {\n",
       "        text-align: right;\n",
       "    }\n",
       "</style>\n",
       "<table border=\"1\" class=\"dataframe\">\n",
       "  <thead>\n",
       "    <tr style=\"text-align: right;\">\n",
       "      <th></th>\n",
       "      <th>Area Code</th>\n",
       "      <th>Item Code</th>\n",
       "      <th>Element Code</th>\n",
       "      <th>Y2014</th>\n",
       "      <th>Y2015</th>\n",
       "      <th>Y2016</th>\n",
       "      <th>Y2017</th>\n",
       "      <th>Y2018</th>\n",
       "    </tr>\n",
       "    <tr>\n",
       "      <th>Element</th>\n",
       "      <th></th>\n",
       "      <th></th>\n",
       "      <th></th>\n",
       "      <th></th>\n",
       "      <th></th>\n",
       "      <th></th>\n",
       "      <th></th>\n",
       "      <th></th>\n",
       "    </tr>\n",
       "  </thead>\n",
       "  <tbody>\n",
       "    <tr>\n",
       "      <th>Domestic supply quantity</th>\n",
       "      <td>15351</td>\n",
       "      <td>318888</td>\n",
       "      <td>630819</td>\n",
       "      <td>31578.76</td>\n",
       "      <td>31214.98</td>\n",
       "      <td>31732.08</td>\n",
       "      <td>31927.87</td>\n",
       "      <td>32596.87</td>\n",
       "    </tr>\n",
       "    <tr>\n",
       "      <th>Export Quantity</th>\n",
       "      <td>13416</td>\n",
       "      <td>279445</td>\n",
       "      <td>614744</td>\n",
       "      <td>425.48</td>\n",
       "      <td>494.75</td>\n",
       "      <td>535.06</td>\n",
       "      <td>566.81</td>\n",
       "      <td>535.81</td>\n",
       "    </tr>\n",
       "    <tr>\n",
       "      <th>Fat supply quantity (g/capita/day)</th>\n",
       "      <td>14319</td>\n",
       "      <td>299405</td>\n",
       "      <td>75924</td>\n",
       "      <td>88.72</td>\n",
       "      <td>91.85</td>\n",
       "      <td>95.33</td>\n",
       "      <td>101.03</td>\n",
       "      <td>96.43</td>\n",
       "    </tr>\n",
       "    <tr>\n",
       "      <th>Feed</th>\n",
       "      <td>4515</td>\n",
       "      <td>94030</td>\n",
       "      <td>193235</td>\n",
       "      <td>2178.76</td>\n",
       "      <td>2070.22</td>\n",
       "      <td>2121.40</td>\n",
       "      <td>2059.60</td>\n",
       "      <td>2133.60</td>\n",
       "    </tr>\n",
       "    <tr>\n",
       "      <th>Food</th>\n",
       "      <td>14190</td>\n",
       "      <td>295817</td>\n",
       "      <td>565620</td>\n",
       "      <td>21405.42</td>\n",
       "      <td>21120.65</td>\n",
       "      <td>21435.61</td>\n",
       "      <td>21676.21</td>\n",
       "      <td>22116.21</td>\n",
       "    </tr>\n",
       "    <tr>\n",
       "      <th>Food supply (kcal/capita/day)</th>\n",
       "      <td>14319</td>\n",
       "      <td>299405</td>\n",
       "      <td>73704</td>\n",
       "      <td>7945.00</td>\n",
       "      <td>7685.00</td>\n",
       "      <td>7669.00</td>\n",
       "      <td>7768.00</td>\n",
       "      <td>7748.00</td>\n",
       "    </tr>\n",
       "    <tr>\n",
       "      <th>Food supply quantity (kg/capita/yr)</th>\n",
       "      <td>14190</td>\n",
       "      <td>295817</td>\n",
       "      <td>70950</td>\n",
       "      <td>907.59</td>\n",
       "      <td>871.59</td>\n",
       "      <td>861.17</td>\n",
       "      <td>847.75</td>\n",
       "      <td>842.17</td>\n",
       "    </tr>\n",
       "    <tr>\n",
       "      <th>Import Quantity</th>\n",
       "      <td>14319</td>\n",
       "      <td>297945</td>\n",
       "      <td>622821</td>\n",
       "      <td>2010.71</td>\n",
       "      <td>1721.80</td>\n",
       "      <td>1901.47</td>\n",
       "      <td>3139.79</td>\n",
       "      <td>3214.79</td>\n",
       "    </tr>\n",
       "    <tr>\n",
       "      <th>Losses</th>\n",
       "      <td>7095</td>\n",
       "      <td>148102</td>\n",
       "      <td>281765</td>\n",
       "      <td>2252.00</td>\n",
       "      <td>2176.00</td>\n",
       "      <td>2215.00</td>\n",
       "      <td>2153.00</td>\n",
       "      <td>2253.00</td>\n",
       "    </tr>\n",
       "    <tr>\n",
       "      <th>Other uses (non-food)</th>\n",
       "      <td>6579</td>\n",
       "      <td>138246</td>\n",
       "      <td>262854</td>\n",
       "      <td>4348.58</td>\n",
       "      <td>3957.12</td>\n",
       "      <td>4114.08</td>\n",
       "      <td>4170.06</td>\n",
       "      <td>4221.06</td>\n",
       "    </tr>\n",
       "    <tr>\n",
       "      <th>Processing</th>\n",
       "      <td>9804</td>\n",
       "      <td>201929</td>\n",
       "      <td>389956</td>\n",
       "      <td>1262.00</td>\n",
       "      <td>1803.00</td>\n",
       "      <td>1770.00</td>\n",
       "      <td>1826.00</td>\n",
       "      <td>1819.00</td>\n",
       "    </tr>\n",
       "    <tr>\n",
       "      <th>Production</th>\n",
       "      <td>14190</td>\n",
       "      <td>295071</td>\n",
       "      <td>606210</td>\n",
       "      <td>30337.51</td>\n",
       "      <td>29482.89</td>\n",
       "      <td>29889.65</td>\n",
       "      <td>29267.86</td>\n",
       "      <td>30215.86</td>\n",
       "    </tr>\n",
       "    <tr>\n",
       "      <th>Protein supply quantity (g/capita/day)</th>\n",
       "      <td>14319</td>\n",
       "      <td>299405</td>\n",
       "      <td>74814</td>\n",
       "      <td>177.79</td>\n",
       "      <td>173.05</td>\n",
       "      <td>173.40</td>\n",
       "      <td>175.75</td>\n",
       "      <td>176.64</td>\n",
       "    </tr>\n",
       "    <tr>\n",
       "      <th>Residuals</th>\n",
       "      <td>13545</td>\n",
       "      <td>280011</td>\n",
       "      <td>542850</td>\n",
       "      <td>-603.00</td>\n",
       "      <td>-616.00</td>\n",
       "      <td>-642.00</td>\n",
       "      <td>-657.00</td>\n",
       "      <td>-676.00</td>\n",
       "    </tr>\n",
       "    <tr>\n",
       "      <th>Seed</th>\n",
       "      <td>2709</td>\n",
       "      <td>56067</td>\n",
       "      <td>116067</td>\n",
       "      <td>728.00</td>\n",
       "      <td>699.00</td>\n",
       "      <td>720.00</td>\n",
       "      <td>695.00</td>\n",
       "      <td>728.00</td>\n",
       "    </tr>\n",
       "    <tr>\n",
       "      <th>Stock Variation</th>\n",
       "      <td>12642</td>\n",
       "      <td>262174</td>\n",
       "      <td>497056</td>\n",
       "      <td>352.00</td>\n",
       "      <td>-505.00</td>\n",
       "      <td>-475.00</td>\n",
       "      <td>-91.00</td>\n",
       "      <td>293.00</td>\n",
       "    </tr>\n",
       "    <tr>\n",
       "      <th>Total Population - Both sexes</th>\n",
       "      <td>129</td>\n",
       "      <td>2501</td>\n",
       "      <td>511</td>\n",
       "      <td>23590.00</td>\n",
       "      <td>24234.00</td>\n",
       "      <td>24894.00</td>\n",
       "      <td>25571.00</td>\n",
       "      <td>26262.00</td>\n",
       "    </tr>\n",
       "  </tbody>\n",
       "</table>\n",
       "</div>"
      ],
      "text/plain": [
       "                                        Area Code  Item Code  Element Code  \\\n",
       "Element                                                                      \n",
       "Domestic supply quantity                    15351     318888        630819   \n",
       "Export Quantity                             13416     279445        614744   \n",
       "Fat supply quantity (g/capita/day)          14319     299405         75924   \n",
       "Feed                                         4515      94030        193235   \n",
       "Food                                        14190     295817        565620   \n",
       "Food supply (kcal/capita/day)               14319     299405         73704   \n",
       "Food supply quantity (kg/capita/yr)         14190     295817         70950   \n",
       "Import Quantity                             14319     297945        622821   \n",
       "Losses                                       7095     148102        281765   \n",
       "Other uses (non-food)                        6579     138246        262854   \n",
       "Processing                                   9804     201929        389956   \n",
       "Production                                  14190     295071        606210   \n",
       "Protein supply quantity (g/capita/day)      14319     299405         74814   \n",
       "Residuals                                   13545     280011        542850   \n",
       "Seed                                         2709      56067        116067   \n",
       "Stock Variation                             12642     262174        497056   \n",
       "Total Population - Both sexes                 129       2501           511   \n",
       "\n",
       "                                           Y2014     Y2015     Y2016  \\\n",
       "Element                                                                \n",
       "Domestic supply quantity                31578.76  31214.98  31732.08   \n",
       "Export Quantity                           425.48    494.75    535.06   \n",
       "Fat supply quantity (g/capita/day)         88.72     91.85     95.33   \n",
       "Feed                                     2178.76   2070.22   2121.40   \n",
       "Food                                    21405.42  21120.65  21435.61   \n",
       "Food supply (kcal/capita/day)            7945.00   7685.00   7669.00   \n",
       "Food supply quantity (kg/capita/yr)       907.59    871.59    861.17   \n",
       "Import Quantity                          2010.71   1721.80   1901.47   \n",
       "Losses                                   2252.00   2176.00   2215.00   \n",
       "Other uses (non-food)                    4348.58   3957.12   4114.08   \n",
       "Processing                               1262.00   1803.00   1770.00   \n",
       "Production                              30337.51  29482.89  29889.65   \n",
       "Protein supply quantity (g/capita/day)    177.79    173.05    173.40   \n",
       "Residuals                                -603.00   -616.00   -642.00   \n",
       "Seed                                      728.00    699.00    720.00   \n",
       "Stock Variation                           352.00   -505.00   -475.00   \n",
       "Total Population - Both sexes           23590.00  24234.00  24894.00   \n",
       "\n",
       "                                           Y2017     Y2018  \n",
       "Element                                                     \n",
       "Domestic supply quantity                31927.87  32596.87  \n",
       "Export Quantity                           566.81    535.81  \n",
       "Fat supply quantity (g/capita/day)        101.03     96.43  \n",
       "Feed                                     2059.60   2133.60  \n",
       "Food                                    21676.21  22116.21  \n",
       "Food supply (kcal/capita/day)            7768.00   7748.00  \n",
       "Food supply quantity (kg/capita/yr)       847.75    842.17  \n",
       "Import Quantity                          3139.79   3214.79  \n",
       "Losses                                   2153.00   2253.00  \n",
       "Other uses (non-food)                    4170.06   4221.06  \n",
       "Processing                               1826.00   1819.00  \n",
       "Production                              29267.86  30215.86  \n",
       "Protein supply quantity (g/capita/day)    175.75    176.64  \n",
       "Residuals                                -657.00   -676.00  \n",
       "Seed                                      695.00    728.00  \n",
       "Stock Variation                           -91.00    293.00  \n",
       "Total Population - Both sexes           25571.00  26262.00  "
      ]
     },
     "execution_count": 24,
     "metadata": {},
     "output_type": "execute_result"
    }
   ],
   "source": [
    "fb[fb['Area'] == 'Madagascar'].groupby('Element').sum()"
   ]
  },
  {
   "cell_type": "markdown",
   "id": "27b9ed39",
   "metadata": {},
   "source": [
    "### 12. What is the total number of unique countries in the dataset?"
   ]
  },
  {
   "cell_type": "code",
   "execution_count": 25,
   "id": "c8b3e23c",
   "metadata": {},
   "outputs": [
    {
     "data": {
      "text/plain": [
       "49"
      ]
     },
     "execution_count": 25,
     "metadata": {},
     "output_type": "execute_result"
    }
   ],
   "source": [
    "fb['Area'].nunique()"
   ]
  },
  {
   "cell_type": "markdown",
   "id": "e4b75a71",
   "metadata": {},
   "source": [
    "### 13. Perform a groupby operation on ‘Element’.  What year has the highest sum of Stock Variation?"
   ]
  },
  {
   "cell_type": "code",
   "execution_count": 27,
   "id": "83388132",
   "metadata": {},
   "outputs": [
    {
     "name": "stdout",
     "output_type": "stream",
     "text": [
      "The sum of the stock variation in 2014 is 20577.91\n"
     ]
    }
   ],
   "source": [
    "stock_2014 = fb.groupby('Element').sum().loc['Stock Variation']['Y2018']\n",
    "print(f'The sum of the stock variation in 2014 is {round(stock_2014, 2)}')"
   ]
  },
  {
   "cell_type": "markdown",
   "id": "1b6b3b08",
   "metadata": {},
   "source": [
    "\n",
    "### 14. Perform a groupby operation on ‘Element’.  What is the total number of the sum of Processing in 2017?"
   ]
  },
  {
   "cell_type": "code",
   "execution_count": 28,
   "id": "ecf3e5f9",
   "metadata": {},
   "outputs": [
    {
     "data": {
      "text/html": [
       "<div>\n",
       "<style scoped>\n",
       "    .dataframe tbody tr th:only-of-type {\n",
       "        vertical-align: middle;\n",
       "    }\n",
       "\n",
       "    .dataframe tbody tr th {\n",
       "        vertical-align: top;\n",
       "    }\n",
       "\n",
       "    .dataframe thead th {\n",
       "        text-align: right;\n",
       "    }\n",
       "</style>\n",
       "<table border=\"1\" class=\"dataframe\">\n",
       "  <thead>\n",
       "    <tr style=\"text-align: right;\">\n",
       "      <th></th>\n",
       "      <th>Area Code</th>\n",
       "      <th>Item Code</th>\n",
       "      <th>Element Code</th>\n",
       "      <th>Y2014</th>\n",
       "      <th>Y2015</th>\n",
       "      <th>Y2016</th>\n",
       "      <th>Y2017</th>\n",
       "      <th>Y2018</th>\n",
       "    </tr>\n",
       "    <tr>\n",
       "      <th>Element</th>\n",
       "      <th></th>\n",
       "      <th></th>\n",
       "      <th></th>\n",
       "      <th></th>\n",
       "      <th></th>\n",
       "      <th></th>\n",
       "      <th></th>\n",
       "      <th></th>\n",
       "    </tr>\n",
       "  </thead>\n",
       "  <tbody>\n",
       "    <tr>\n",
       "      <th>Processing</th>\n",
       "      <td>271940</td>\n",
       "      <td>5350416</td>\n",
       "      <td>10313310</td>\n",
       "      <td>282923.0</td>\n",
       "      <td>287929.0</td>\n",
       "      <td>280631.0</td>\n",
       "      <td>292836.0</td>\n",
       "      <td>308429.0</td>\n",
       "    </tr>\n",
       "  </tbody>\n",
       "</table>\n",
       "</div>"
      ],
      "text/plain": [
       "            Area Code  Item Code  Element Code     Y2014     Y2015     Y2016  \\\n",
       "Element                                                                        \n",
       "Processing     271940    5350416      10313310  282923.0  287929.0  280631.0   \n",
       "\n",
       "               Y2017     Y2018  \n",
       "Element                         \n",
       "Processing  292836.0  308429.0  "
      ]
     },
     "execution_count": 28,
     "metadata": {},
     "output_type": "execute_result"
    }
   ],
   "source": [
    "fb[fb['Element'] == 'Processing'].groupby('Element').sum()"
   ]
  },
  {
   "cell_type": "markdown",
   "id": "86f47b75",
   "metadata": {},
   "source": [
    "\n",
    "### 15. A pandas Dataframe with dimensions (100,3) has how many features and observations?"
   ]
  },
  {
   "cell_type": "markdown",
   "id": "5dfdf9cd",
   "metadata": {},
   "source": [
    "3 features, 100 observations"
   ]
  },
  {
   "cell_type": "markdown",
   "id": "d9fcddf0",
   "metadata": {},
   "source": [
    "### 16. Answer the following questions based on the African food production dataset provided by the FAO website already provided\n",
    "\n",
    "### What is the total sum of Wine produced in 2015 and 2018 respectively?\n",
    "\n",
    "#### Hint:\n",
    "\n",
    "### Perform a groupby sum aggregation on ‘Item’"
   ]
  },
  {
   "cell_type": "code",
   "execution_count": 30,
   "id": "f9396d8d",
   "metadata": {},
   "outputs": [
    {
     "data": {
      "text/html": [
       "<div>\n",
       "<style scoped>\n",
       "    .dataframe tbody tr th:only-of-type {\n",
       "        vertical-align: middle;\n",
       "    }\n",
       "\n",
       "    .dataframe tbody tr th {\n",
       "        vertical-align: top;\n",
       "    }\n",
       "\n",
       "    .dataframe thead th {\n",
       "        text-align: right;\n",
       "    }\n",
       "</style>\n",
       "<table border=\"1\" class=\"dataframe\">\n",
       "  <thead>\n",
       "    <tr style=\"text-align: right;\">\n",
       "      <th></th>\n",
       "      <th>Area Code</th>\n",
       "      <th>Item Code</th>\n",
       "      <th>Element Code</th>\n",
       "      <th>Y2014</th>\n",
       "      <th>Y2015</th>\n",
       "      <th>Y2016</th>\n",
       "      <th>Y2017</th>\n",
       "      <th>Y2018</th>\n",
       "    </tr>\n",
       "    <tr>\n",
       "      <th>Item</th>\n",
       "      <th></th>\n",
       "      <th></th>\n",
       "      <th></th>\n",
       "      <th></th>\n",
       "      <th></th>\n",
       "      <th></th>\n",
       "      <th></th>\n",
       "      <th></th>\n",
       "    </tr>\n",
       "  </thead>\n",
       "  <tbody>\n",
       "    <tr>\n",
       "      <th>Wine</th>\n",
       "      <td>66206</td>\n",
       "      <td>1319535</td>\n",
       "      <td>1818328</td>\n",
       "      <td>4497.36</td>\n",
       "      <td>4251.81</td>\n",
       "      <td>3872.09</td>\n",
       "      <td>4178.02</td>\n",
       "      <td>4039.32</td>\n",
       "    </tr>\n",
       "  </tbody>\n",
       "</table>\n",
       "</div>"
      ],
      "text/plain": [
       "      Area Code  Item Code  Element Code    Y2014    Y2015    Y2016    Y2017  \\\n",
       "Item                                                                           \n",
       "Wine      66206    1319535       1818328  4497.36  4251.81  3872.09  4178.02   \n",
       "\n",
       "        Y2018  \n",
       "Item           \n",
       "Wine  4039.32  "
      ]
     },
     "execution_count": 30,
     "metadata": {},
     "output_type": "execute_result"
    }
   ],
   "source": [
    "fb[fb['Item'] == 'Wine'].groupby('Item').sum()"
   ]
  },
  {
   "cell_type": "markdown",
   "id": "f5f2348a",
   "metadata": {},
   "source": [
    "Ans = 4251.81 and 4039.32"
   ]
  },
  {
   "cell_type": "markdown",
   "id": "1d29b14d",
   "metadata": {},
   "source": [
    "### 17. How would you check for the number of rows and columns in a pandas DataFrame named df?"
   ]
  },
  {
   "cell_type": "markdown",
   "id": "27a9503e",
   "metadata": {},
   "source": [
    "df.shape"
   ]
  },
  {
   "cell_type": "markdown",
   "id": "51ec197a",
   "metadata": {},
   "source": [
    "\n",
    "### 18. Which of the following is a python inbuilt module?"
   ]
  },
  {
   "cell_type": "markdown",
   "id": "5c8c52ec",
   "metadata": {},
   "source": [
    "Math"
   ]
  },
  {
   "cell_type": "code",
   "execution_count": null,
   "id": "d02fde2c",
   "metadata": {},
   "outputs": [],
   "source": [
    "19. Given the following numpy array \n",
    "\n",
    "array  = ([[94, 89, 63],\n",
    "\n",
    "             [93, 92, 48],\n",
    "\n",
    "             [92, 94, 56]])\n",
    "\n",
    "How would you select  the elements in bold and italics from the array?\n",
    "\n",
    "Options\n",
    "array[ : 2, 1 : ] \n",
    "\n",
    "array[ : 1, 1 : ]\n",
    "\n",
    "array[ 1 : , : ]\n",
    "\n",
    "array[ : 1, 1 :] \n",
    "\n",
    "array[ : 2, 0 : ]"
   ]
  },
  {
   "cell_type": "markdown",
   "id": "cb0c5225",
   "metadata": {},
   "source": [
    "### 20. What is the total number and percentage of missing data in 2014 to 3 decimal places?"
   ]
  },
  {
   "cell_type": "code",
   "execution_count": 34,
   "id": "abc3b78c",
   "metadata": {},
   "outputs": [
    {
     "data": {
      "text/html": [
       "<div>\n",
       "<style scoped>\n",
       "    .dataframe tbody tr th:only-of-type {\n",
       "        vertical-align: middle;\n",
       "    }\n",
       "\n",
       "    .dataframe tbody tr th {\n",
       "        vertical-align: top;\n",
       "    }\n",
       "\n",
       "    .dataframe thead th {\n",
       "        text-align: right;\n",
       "    }\n",
       "</style>\n",
       "<table border=\"1\" class=\"dataframe\">\n",
       "  <thead>\n",
       "    <tr style=\"text-align: right;\">\n",
       "      <th></th>\n",
       "      <th>Total</th>\n",
       "      <th>%</th>\n",
       "    </tr>\n",
       "  </thead>\n",
       "  <tbody>\n",
       "    <tr>\n",
       "      <th>Y2014</th>\n",
       "      <td>1589</td>\n",
       "      <td>2.607</td>\n",
       "    </tr>\n",
       "    <tr>\n",
       "      <th>Y2015</th>\n",
       "      <td>1548</td>\n",
       "      <td>2.540</td>\n",
       "    </tr>\n",
       "    <tr>\n",
       "      <th>Y2016</th>\n",
       "      <td>1535</td>\n",
       "      <td>2.519</td>\n",
       "    </tr>\n",
       "    <tr>\n",
       "      <th>Y2017</th>\n",
       "      <td>1506</td>\n",
       "      <td>2.471</td>\n",
       "    </tr>\n",
       "    <tr>\n",
       "      <th>Y2018</th>\n",
       "      <td>1436</td>\n",
       "      <td>2.356</td>\n",
       "    </tr>\n",
       "  </tbody>\n",
       "</table>\n",
       "</div>"
      ],
      "text/plain": [
       "       Total      %\n",
       "Y2014   1589  2.607\n",
       "Y2015   1548  2.540\n",
       "Y2016   1535  2.519\n",
       "Y2017   1506  2.471\n",
       "Y2018   1436  2.356"
      ]
     },
     "execution_count": 34,
     "metadata": {},
     "output_type": "execute_result"
    }
   ],
   "source": [
    "total = fb.isnull().sum().sort_values(ascending=False)\n",
    "percent1 = fb.isnull().sum()/fb.isnull().count()*100\n",
    "percent2 = (round(percent1, 3)).sort_values(ascending=False)\n",
    "missing_data = pd.concat([total, percent2], axis=1, keys=['Total', '%'])\n",
    "missing_data.head()"
   ]
  },
  {
   "cell_type": "markdown",
   "id": "3f79a65d",
   "metadata": {},
   "source": [
    "Ans = 1589 and 2.607%"
   ]
  },
  {
   "cell_type": "code",
   "execution_count": null,
   "id": "0321f502",
   "metadata": {},
   "outputs": [],
   "source": []
  }
 ],
 "metadata": {
  "kernelspec": {
   "display_name": "Python 3 (ipykernel)",
   "language": "python",
   "name": "python3"
  },
  "language_info": {
   "codemirror_mode": {
    "name": "ipython",
    "version": 3
   },
   "file_extension": ".py",
   "mimetype": "text/x-python",
   "name": "python",
   "nbconvert_exporter": "python",
   "pygments_lexer": "ipython3",
   "version": "3.9.12"
  }
 },
 "nbformat": 4,
 "nbformat_minor": 5
}
